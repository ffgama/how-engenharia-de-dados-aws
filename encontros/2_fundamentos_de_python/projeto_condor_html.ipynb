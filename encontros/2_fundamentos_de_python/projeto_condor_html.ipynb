{
 "cells": [
  {
   "cell_type": "markdown",
   "id": "986a5e73-82f1-4a0a-836b-239683024805",
   "metadata": {},
   "source": [
    "# Web Scrapping de Dados da WEB"
   ]
  },
  {
   "cell_type": "markdown",
   "id": "c0c0887a-cfea-47e5-9fba-3e87de8bfe54",
   "metadata": {},
   "source": [
    "- Primeira forma, parse de HTML.\n",
    "    - Variação da primeira forma, mais sofisticada, parse de HTML com interpretação de JS (simulando um navegador), e até fazendo clicks se necessário.\n",
    "- Segunda forma, descoberta e uso de uma API interna (se possível)"
   ]
  },
  {
   "cell_type": "markdown",
   "id": "fb0e8cc9-1416-4516-a56a-3ee9d028ef7b",
   "metadata": {},
   "source": [
    "## Primeira forma, parse de HTML"
   ]
  },
  {
   "cell_type": "code",
   "execution_count": 1,
   "id": "ef8b40a3-e512-4ee8-8b55-33ab1ac55a79",
   "metadata": {},
   "outputs": [],
   "source": [
    "import requests\n",
    "\n",
    "search = 'arroz'\n",
    "search_converter = search.replace(' ', '-')\n",
    "url = f'https://www.condor.com.br/pesquisa-usuario/{search_converter}'"
   ]
  },
  {
   "cell_type": "code",
   "execution_count": 2,
   "id": "2ffc2afb-3f0f-4b81-918a-2d710b123674",
   "metadata": {},
   "outputs": [],
   "source": [
    "response = requests.get(url)"
   ]
  },
  {
   "cell_type": "code",
   "execution_count": 22,
   "id": "d1fb5674-310c-4e20-938a-d465cc269c47",
   "metadata": {},
   "outputs": [],
   "source": [
    "from bs4 import BeautifulSoup\n",
    "soup = BeautifulSoup(response.text)\n",
    "products = soup.find(\"div\", {\"class\": \"row mb-4\"}).findAll(\"app-product\")"
   ]
  },
  {
   "cell_type": "code",
   "execution_count": 23,
   "id": "79e1b3ea-f3a0-49c8-8c1b-85c4802305f5",
   "metadata": {},
   "outputs": [],
   "source": [
    "def get_nested_dict_attr_value(tag, attr):\n",
    "    attr_dict = {}\n",
    "    if hasattr(tag, 'children'):\n",
    "        for subtag in tag.children:\n",
    "            if hasattr(subtag, 'attrs') and attr in subtag.attrs:\n",
    "                classes = \" \".join(subtag.attrs[attr])\n",
    "                attr_dict[classes] = subtag.get_text()\n",
    "            attr_dict.update(get_nested_dict_attr_value(subtag, attr))\n",
    "    return attr_dict\n",
    "            "
   ]
  },
  {
   "cell_type": "code",
   "execution_count": 24,
   "id": "5ee0f26a-275c-4f46-8000-7a8235e5d24c",
   "metadata": {
    "editable": true,
    "slideshow": {
     "slide_type": ""
    },
    "tags": []
   },
   "outputs": [],
   "source": [
    "products_data = []\n",
    "for product in products:\n",
    "    products_data.append(get_nested_dict_attr_value(product, 'class'))\n",
    "    "
   ]
  },
  {
   "cell_type": "code",
   "execution_count": 25,
   "id": "01ad57dc-10d3-4d0e-aa39-933932c069e5",
   "metadata": {
    "editable": true,
    "slideshow": {
     "slide_type": ""
    },
    "tags": []
   },
   "outputs": [
    {
     "data": {
      "text/plain": [
       "[{'product': 'Arroz Buriti R$\\xa04,59 cada Oferta Válida de 21/08/2023 a 27/08/2023  ',\n",
       "  'message': '',\n",
       "  'images': '',\n",
       "  'promotion': '',\n",
       "  'content': ' R$\\xa04,59 cada Oferta Válida de 21/08/2023 a 27/08/2023  ',\n",
       "  'title': 'Arroz Buriti',\n",
       "  'regular': ' R$\\xa04,59 cada',\n",
       "  'price-normal': ' R$\\xa04,59 cada',\n",
       "  'validade': ' Oferta Válida de 21/08/2023 a 27/08/2023  '},\n",
       " {'product': 'Arroz Integral Tio João R$\\xa07,99 cada R$\\xa06,99 cada Oferta Válida de 16/08/2023 a 28/08/2023  ',\n",
       "  'message': '',\n",
       "  'images': '',\n",
       "  'promotion': '',\n",
       "  'selo_clube': '',\n",
       "  'content': ' R$\\xa07,99 cada R$\\xa06,99 cada Oferta Válida de 16/08/2023 a 28/08/2023  ',\n",
       "  'title': 'Arroz Integral Tio João',\n",
       "  'regular': ' R$\\xa07,99 cada',\n",
       "  'price-clube': ' R$\\xa07,99 cada',\n",
       "  'clube': ' R$\\xa06,99 cada',\n",
       "  'price': ' R$\\xa06,99 cada',\n",
       "  'validade': ' Oferta Válida de 16/08/2023 a 28/08/2023  '},\n",
       " {'product': 'Arroz Caldo Bom R$\\xa09,99 cada R$\\xa08,99 cada Oferta Válida de 16/08/2023 a 28/08/2023  ',\n",
       "  'message': '',\n",
       "  'images': '',\n",
       "  'promotion': '',\n",
       "  'selo_clube': '',\n",
       "  'content': ' R$\\xa09,99 cada R$\\xa08,99 cada Oferta Válida de 16/08/2023 a 28/08/2023  ',\n",
       "  'title': 'Arroz Caldo Bom',\n",
       "  'regular': ' R$\\xa09,99 cada',\n",
       "  'price-clube': ' R$\\xa09,99 cada',\n",
       "  'clube': ' R$\\xa08,99 cada',\n",
       "  'price': ' R$\\xa08,99 cada',\n",
       "  'validade': ' Oferta Válida de 16/08/2023 a 28/08/2023  '},\n",
       " {'product': 'Arroz Caldo Bom R$\\xa09,99 cada R$\\xa08,99 cada Oferta Válida de 16/08/2023 a 28/08/2023  ',\n",
       "  'message': '',\n",
       "  'images': '',\n",
       "  'promotion': '',\n",
       "  'selo_clube': '',\n",
       "  'content': ' R$\\xa09,99 cada R$\\xa08,99 cada Oferta Válida de 16/08/2023 a 28/08/2023  ',\n",
       "  'title': 'Arroz Caldo Bom',\n",
       "  'regular': ' R$\\xa09,99 cada',\n",
       "  'price-clube': ' R$\\xa09,99 cada',\n",
       "  'clube': ' R$\\xa08,99 cada',\n",
       "  'price': ' R$\\xa08,99 cada',\n",
       "  'validade': ' Oferta Válida de 16/08/2023 a 28/08/2023  '},\n",
       " {'product': 'Arroz Caldo Bom R$\\xa09,99 cada R$\\xa08,99 cada Oferta Válida de 16/08/2023 a 28/08/2023  ',\n",
       "  'message': '',\n",
       "  'images': '',\n",
       "  'promotion': '',\n",
       "  'selo_clube': '',\n",
       "  'content': ' R$\\xa09,99 cada R$\\xa08,99 cada Oferta Válida de 16/08/2023 a 28/08/2023  ',\n",
       "  'title': 'Arroz Caldo Bom',\n",
       "  'regular': ' R$\\xa09,99 cada',\n",
       "  'price-clube': ' R$\\xa09,99 cada',\n",
       "  'clube': ' R$\\xa08,99 cada',\n",
       "  'price': ' R$\\xa08,99 cada',\n",
       "  'validade': ' Oferta Válida de 16/08/2023 a 28/08/2023  '},\n",
       " {'product': 'Massa De Arroz Urbano R$\\xa05,69 cada R$\\xa05,29 cada Oferta Válida de 16/08/2023 a 28/08/2023  ',\n",
       "  'message': '',\n",
       "  'images': '',\n",
       "  'promotion': '',\n",
       "  'selo_clube': '',\n",
       "  'content': ' R$\\xa05,69 cada R$\\xa05,29 cada Oferta Válida de 16/08/2023 a 28/08/2023  ',\n",
       "  'title': 'Massa De Arroz Urbano',\n",
       "  'regular': ' R$\\xa05,69 cada',\n",
       "  'price-clube': ' R$\\xa05,69 cada',\n",
       "  'clube': ' R$\\xa05,29 cada',\n",
       "  'price': ' R$\\xa05,29 cada',\n",
       "  'validade': ' Oferta Válida de 16/08/2023 a 28/08/2023  '},\n",
       " {'product': 'Massa De Arroz Urbano R$\\xa05,69 cada R$\\xa05,29 cada Oferta Válida de 16/08/2023 a 28/08/2023  ',\n",
       "  'message': '',\n",
       "  'images': '',\n",
       "  'promotion': '',\n",
       "  'selo_clube': '',\n",
       "  'content': ' R$\\xa05,69 cada R$\\xa05,29 cada Oferta Válida de 16/08/2023 a 28/08/2023  ',\n",
       "  'title': 'Massa De Arroz Urbano',\n",
       "  'regular': ' R$\\xa05,69 cada',\n",
       "  'price-clube': ' R$\\xa05,69 cada',\n",
       "  'clube': ' R$\\xa05,29 cada',\n",
       "  'price': ' R$\\xa05,29 cada',\n",
       "  'validade': ' Oferta Válida de 16/08/2023 a 28/08/2023  '},\n",
       " {'product': 'Massa De Arroz Urbano R$\\xa05,69 cada R$\\xa05,29 cada Oferta Válida de 16/08/2023 a 28/08/2023  ',\n",
       "  'message': '',\n",
       "  'images': '',\n",
       "  'promotion': '',\n",
       "  'selo_clube': '',\n",
       "  'content': ' R$\\xa05,69 cada R$\\xa05,29 cada Oferta Válida de 16/08/2023 a 28/08/2023  ',\n",
       "  'title': 'Massa De Arroz Urbano',\n",
       "  'regular': ' R$\\xa05,69 cada',\n",
       "  'price-clube': ' R$\\xa05,69 cada',\n",
       "  'clube': ' R$\\xa05,29 cada',\n",
       "  'price': ' R$\\xa05,29 cada',\n",
       "  'validade': ' Oferta Válida de 16/08/2023 a 28/08/2023  '},\n",
       " {'product': 'Ração Dog Chow R$\\xa049,90 cada R$\\xa045,90 cada Oferta Válida de 16/08/2023 a 28/08/2023  ',\n",
       "  'message': '',\n",
       "  'images': '',\n",
       "  'promotion': '',\n",
       "  'selo_clube': '',\n",
       "  'content': ' R$\\xa049,90 cada R$\\xa045,90 cada Oferta Válida de 16/08/2023 a 28/08/2023  ',\n",
       "  'title': 'Ração Dog Chow',\n",
       "  'regular': ' R$\\xa049,90 cada',\n",
       "  'price-clube': ' R$\\xa049,90 cada',\n",
       "  'clube': ' R$\\xa045,90 cada',\n",
       "  'price': ' R$\\xa045,90 cada',\n",
       "  'validade': ' Oferta Válida de 16/08/2023 a 28/08/2023  '},\n",
       " {'product': 'Ração Dog ChowLeva 15, paga 12, Neste pack, cada uma das 15 sai por R$ 2,39. R$\\xa02,99 cada Oferta Válida de 16/08/2023 a 28/08/2023  ',\n",
       "  'message': '',\n",
       "  'images': '',\n",
       "  'promotion': '',\n",
       "  'content': ' R$\\xa02,99 cada Oferta Válida de 16/08/2023 a 28/08/2023  ',\n",
       "  'title': 'Ração Dog Chow',\n",
       "  'kit': 'Leva 15, paga 12, Neste pack, cada uma das 15 sai por R$ 2,39.',\n",
       "  'regular': ' R$\\xa02,99 cada',\n",
       "  'price-normal': ' R$\\xa02,99 cada',\n",
       "  'validade': ' Oferta Válida de 16/08/2023 a 28/08/2023  '},\n",
       " {'product': 'Ração Bravo R$\\xa017,90 cada R$\\xa015,90 cada Oferta Válida de 16/08/2023 a 28/08/2023  ',\n",
       "  'message': '',\n",
       "  'images': '',\n",
       "  'promotion': '',\n",
       "  'selo_clube': '',\n",
       "  'content': ' R$\\xa017,90 cada R$\\xa015,90 cada Oferta Válida de 16/08/2023 a 28/08/2023  ',\n",
       "  'title': 'Ração Bravo',\n",
       "  'regular': ' R$\\xa017,90 cada',\n",
       "  'price-clube': ' R$\\xa017,90 cada',\n",
       "  'clube': ' R$\\xa015,90 cada',\n",
       "  'price': ' R$\\xa015,90 cada',\n",
       "  'validade': ' Oferta Válida de 16/08/2023 a 28/08/2023  '}]"
      ]
     },
     "execution_count": 25,
     "metadata": {},
     "output_type": "execute_result"
    }
   ],
   "source": [
    "products_data"
   ]
  },
  {
   "cell_type": "code",
   "execution_count": 21,
   "id": "dd3127fc-cd8c-4fc9-b8dc-84702e0f61b8",
   "metadata": {},
   "outputs": [
    {
     "data": {
      "text/plain": [
       "requests.models.Response"
      ]
     },
     "execution_count": 21,
     "metadata": {},
     "output_type": "execute_result"
    }
   ],
   "source": [
    "type(response)"
   ]
  },
  {
   "cell_type": "code",
   "execution_count": null,
   "id": "efc843b3-83bb-4613-9cb2-e0f3c79a0542",
   "metadata": {},
   "outputs": [],
   "source": []
  }
 ],
 "metadata": {
  "kernelspec": {
   "display_name": "Python 3 (ipykernel)",
   "language": "python",
   "name": "python3"
  },
  "language_info": {
   "codemirror_mode": {
    "name": "ipython",
    "version": 3
   },
   "file_extension": ".py",
   "mimetype": "text/x-python",
   "name": "python",
   "nbconvert_exporter": "python",
   "pygments_lexer": "ipython3",
   "version": "3.10.12"
  }
 },
 "nbformat": 4,
 "nbformat_minor": 5
}
