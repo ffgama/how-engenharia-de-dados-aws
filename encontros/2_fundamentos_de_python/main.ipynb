{
 "cells": [
  {
   "cell_type": "markdown",
   "id": "c1be1cee-d893-419d-b9da-fe84cf9fa8d3",
   "metadata": {},
   "source": [
    "# Bem vindos ao primeiro encontro de fundamentos de python!"
   ]
  },
  {
   "cell_type": "markdown",
   "id": "529e697f-7d81-48c5-8f75-3e7de3b5af7b",
   "metadata": {
    "jp-MarkdownHeadingCollapsed": true
   },
   "source": [
    "## Sobre o Jupyter Lab\n"
   ]
  },
  {
   "cell_type": "markdown",
   "id": "e2454f10-3da4-4e80-bb82-1871662d6a12",
   "metadata": {},
   "source": [
    "Estamos trabalhando aqui em uma ferramenta chamada **Jupyter Lab**, a qual é uma das formas mais conhecidas de se executar códigos em python. Inclusive com o Jupyter, você não tem acesso só ao kernel do python. O próprio nome Jupyter vem da junção de algumas linguagens que ele possui suporte:\n",
    "\n",
    "- JU (Julia)\n",
    "- PY (Python)\n",
    "- (te)R (R)\n",
    "\n",
    "Por curiosidade, [aqui tem uma lista](https://github.com/jupyter/jupyter/wiki/Jupyter-kernels) das linguagens de programação suportadas pelo Jupyter."
   ]
  },
  {
   "cell_type": "markdown",
   "id": "0208bf27-11c8-4c49-8d1f-30f42c574075",
   "metadata": {
    "jp-MarkdownHeadingCollapsed": true
   },
   "source": [
    "## Formas clássicas de se executar códigos python"
   ]
  },
  {
   "cell_type": "markdown",
   "id": "3afd3b41-b833-453a-9362-d331fb3a9d58",
   "metadata": {},
   "source": [
    "Trabalhar com notebooks jupyter é ótimo para experimentar código, dado que é talvez a plataforma mais interativa de python. Entretanto relatarei aqui outras formas clássicas de se executar códigos python.\n",
    "\n",
    "#### Para criar (e debugar) códigos python:\n",
    "\n",
    "- IDE (como o [VSCode](https://code.visualstudio.com/)) - Possivelmente a minha forma favorita de interagir com código python, especialmente em virtude das [ricas funcionalidades de debugging](https://code.visualstudio.com/docs/python/debugging).\n",
    "- [Python Interpreter](https://docs.python.org/3/tutorial/interpreter.html) - Via terminal é possível acessar um interpretador python, o qual possui um modo interativo, aonde é possível rapidamente experimentar código.\n",
    "- Jupyter Lab - Plataforma que estaremos utilizando hoje, executa código python de forma interativa.\n",
    "\n",
    "#### Para executar em produção:\n",
    "- Executar o [script python via terminal](https://pythonbasics.org/execute-python-scripts/), com um comando `python nome_script.py`.\n",
    "- Executar o script python via terminal dentro de um container. [Link](https://hub.docker.com/_/python) e [Link](https://www.docker.com/blog/how-to-dockerize-your-python-applications/)\n",
    "- Criar uma webserver em python, tipo em [Flask](https://flask.palletsprojects.com/en/2.3.x/) ou [Django](https://www.djangoproject.com/).\n",
    "- Confesso que criar [GUI's](https://realpython.com/python-gui-tkinter/) tem sido cada menos usado, mas existe essa possibilidade também em python."
   ]
  },
  {
   "cell_type": "markdown",
   "id": "c3813ff4-59ec-44ef-b1f3-2b4d6685212f",
   "metadata": {
    "jp-MarkdownHeadingCollapsed": true
   },
   "source": [
    "## Algumas funcionalidades do Jupyter Lab\n"
   ]
  },
  {
   "cell_type": "markdown",
   "id": "65ab93cb-8458-411d-b2d4-eeb34a37f903",
   "metadata": {},
   "source": [
    "O Jupyter lab é dividido em células, as quais podem possuir tanto texto em markdown, como esse aqui, quanto código em uma linguagem de programação. Markdown é uma linguagem de marcação super utilizada no mundo tech para estilizar textos usando apenas texto. [Segue aqui um tutorial bacana de Markdown](https://github.com/adam-p/markdown-here/wiki/Markdown-Cheatsheet)."
   ]
  },
  {
   "cell_type": "markdown",
   "id": "d5ba1129-a7ab-4ce7-acd4-fbadd5086856",
   "metadata": {},
   "source": [
    "## Revisando Python"
   ]
  },
  {
   "cell_type": "markdown",
   "id": "9fcacf54-09d5-461d-8602-8b750adc1a4f",
   "metadata": {},
   "source": [
    "Primeiramente, para uma revisão geral de Python, recomendo a realização do Tutorial de Python da W3 Schools, [a qual pode ser acessado aqui](https://www.w3schools.com/python/)."
   ]
  },
  {
   "cell_type": "markdown",
   "id": "f72da468-ac62-4694-b893-9d0b56895155",
   "metadata": {},
   "source": [
    "A maneira como eu gosto de enxergar Python é que **quase tudo em python é um objeto, os quais possuem propriedades e qualidades específicas**. Então, ao conhecer os principais objetos, suas características e propriedades, consequentemente você se tornará um melhor programador python."
   ]
  },
  {
   "cell_type": "markdown",
   "id": "fa7c8b42-b783-484f-8d95-e9a7735b3b98",
   "metadata": {},
   "source": [
    "Os tipos principais de dados em python, baseado na minha experiência, são:\n",
    "- string (str): para armazenar textos\n",
    "- integer (int): para armazenar números inteiros\n",
    "- float (float): para armazenar números quebrados\n",
    "- Decimal (Decimal): para armazenar números decimais só quando necessário, tipo quando lidar com arquivos parquet.\n",
    "- datetime (datetime.datetime): para armazenar datas\n",
    "\n",
    "Os tipos de dados de conjuntos de dados para armazenar dados em python:\n",
    "- list (list) []: para armazenar uma sequência de dados\n",
    "- dict (dict) {}: para armazenar um dicionário de dados, chave e valor.\n",
    "- DataFrame (pandas.DataFrame): para armazenar em memória uma tabela."
   ]
  },
  {
   "cell_type": "code",
   "execution_count": 19,
   "id": "08207011-333c-4023-9853-145860880c2a",
   "metadata": {},
   "outputs": [],
   "source": [
    "# Nas células de código, o # indica que inicia-se um comentário."
   ]
  },
  {
   "cell_type": "code",
   "execution_count": null,
   "id": "fbbc1d2b-0f99-4092-a5f4-228d60ffbc47",
   "metadata": {},
   "outputs": [],
   "source": [
    "# Exemplo de request para pegar dados da WEB:"
   ]
  },
  {
   "cell_type": "code",
   "execution_count": 20,
   "id": "f86e33eb-4a38-418d-8d37-6a6d7c63bdaf",
   "metadata": {},
   "outputs": [],
   "source": [
    "import requests"
   ]
  },
  {
   "cell_type": "code",
   "execution_count": 21,
   "id": "9ea8aed2-9eb5-425a-8642-0e12eeab34e5",
   "metadata": {},
   "outputs": [],
   "source": [
    "search = \"feijão\"\n",
    "url = f\"https://www.supermuffato.com.br/{search}\""
   ]
  },
  {
   "cell_type": "code",
   "execution_count": 39,
   "id": "96965d25-ead1-4d18-a602-4484a094fdcd",
   "metadata": {},
   "outputs": [],
   "source": [
    "result = requests.get(url)\n",
    "result_str = result.text"
   ]
  },
  {
   "cell_type": "code",
   "execution_count": 23,
   "id": "35e7e034-b63d-4d3f-ad44-28a6003d16f5",
   "metadata": {},
   "outputs": [],
   "source": [
    "# Salvando dados do HTML em disco, uma vez que essa informação\n",
    "# é bastante volátil, e qualquer tratamento nesse dado poderia\n",
    "# quebrar o pipeline. Salvando em disco o dado bruto permite\n",
    "# a gente reprocessar o dado posteriormente, se necessário."
   ]
  },
  {
   "cell_type": "code",
   "execution_count": 36,
   "id": "23912952-7d00-4c3f-a196-d6316ee0d5b3",
   "metadata": {},
   "outputs": [],
   "source": [
    "from pathlib import Path\n",
    "from datetime import datetime\n",
    "import uuid"
   ]
  },
  {
   "cell_type": "code",
   "execution_count": 37,
   "id": "ca520675-cd8e-45e3-bd4f-d96aac939a57",
   "metadata": {},
   "outputs": [],
   "source": [
    "date = datetime.now().strftime('%Y-%m-%d')\n",
    "id = uuid.uuid4()\n",
    "\n",
    "directory_path = Path(f'downloads/brass/muffato_html/search={search}/date={date}/')\n",
    "\n",
    "# Por padrão não se cria uma cadeia de diretórios ao criar um arquivo,\n",
    "# o comando abaixo faz isso\n",
    "\n",
    "directory_path.mkdir(parents=True, exist_ok=True)\n",
    "\n",
    "path = directory_path / f'{id}.html'"
   ]
  },
  {
   "cell_type": "code",
   "execution_count": 40,
   "id": "9c526e00-fb67-4a87-a7f4-bdb250a6ea2a",
   "metadata": {},
   "outputs": [],
   "source": [
    "with open(path, 'w+') as f:\n",
    "    f.write(result.text)"
   ]
  },
  {
   "cell_type": "code",
   "execution_count": 41,
   "id": "d458fa62-64b0-462b-be73-f60374e9f1d1",
   "metadata": {},
   "outputs": [],
   "source": [
    "# Parseando dados em HTML"
   ]
  },
  {
   "cell_type": "code",
   "execution_count": 46,
   "id": "0e54f5d9-baff-4ec2-b852-873eb690e095",
   "metadata": {},
   "outputs": [],
   "source": [
    "from bs4 import BeautifulSoup, Tag"
   ]
  },
  {
   "cell_type": "code",
   "execution_count": 45,
   "id": "45f7689a-48bd-445e-8385-d1c75b86513f",
   "metadata": {},
   "outputs": [],
   "source": [
    "def get_nested_dict_attr_value(tag: Tag, attr: str):\n",
    "    attr_dict = {}\n",
    "    if hasattr(tag, 'children'):\n",
    "        for subtag in tag.children:\n",
    "            if hasattr(subtag, 'attrs') and attr in subtag.attrs:\n",
    "                classes = \" \".join(subtag.attrs[attr])\n",
    "                attr_dict[classes] = subtag.get_text()\n",
    "            attr_dict.update(get_nested_dict_attr_value(subtag, attr))\n",
    "    return attr_dict"
   ]
  },
  {
   "cell_type": "code",
   "execution_count": 47,
   "id": "25e9dc04-98c1-4735-afb1-7e07bf74921f",
   "metadata": {},
   "outputs": [],
   "source": [
    "soup = BeautifulSoup(result_str)"
   ]
  },
  {
   "cell_type": "code",
   "execution_count": 51,
   "id": "103cde06-dc82-443d-858d-f44c5fce17ba",
   "metadata": {},
   "outputs": [],
   "source": [
    "# Primeiro passo é filtrar para pegar os elementos que\n",
    "# são de nosso interesse.\n",
    "\n",
    "products = soup.findAll(\"div\", {\"class\": \"prd-list-item-holder\"})"
   ]
  },
  {
   "cell_type": "code",
   "execution_count": 56,
   "id": "39352f85-52ae-4617-895d-545c4c13cfc6",
   "metadata": {},
   "outputs": [],
   "source": [
    "\n",
    "# Perceba aqui as estruturas de dados. As listas\n",
    "# seriam como as linhas de uma tabela\n",
    "products_data = []\n",
    "for product in products:\n",
    "    # Enquanto que as colunas seriam os dicionários\n",
    "    # como o dicionário gerado pela função get_nested_dict_attr_value\n",
    "    products_data.append(get_nested_dict_attr_value(product, 'class'))\n",
    "\n",
    "# Essa estrutura de lista de python como linha e dicionário\n",
    "# de python como coluna é um padrão muito comumente utilizado\n",
    "# em programas de python para dados."
   ]
  },
  {
   "cell_type": "code",
   "execution_count": 58,
   "id": "d9bce046-79f6-4621-93c5-48c10d6e2680",
   "metadata": {},
   "outputs": [],
   "source": [
    "# Acredito que JSON seja o tipo de dado mais usado e mais útil\n",
    "# no universo WEB. Perceba que Python possui suporte nativo\n",
    "# ao tipo de dado JSON por meio da biblioteca JSON\n",
    "\n",
    "# Com ela é possível ler com facilidade dados em JSON (convertendo\n",
    "# em dicionário Python) e o caminho contrario também (de dicionário\n",
    "# python para JSON).\n",
    "\n",
    "# Inclusive uma lista de dicionários é possível se converter em JSON\n",
    "# é o que faremos agora.\n",
    "\n",
    "import json\n",
    "\n",
    "directory_path = Path(f'downloads/bronze/muffato_html/search={search}/date={date}/')\n",
    "directory_path.mkdir(parents=True, exist_ok=True)\n",
    "path = directory_path / f'{id}.json'\n",
    "with open(path, 'w+') as f:\n",
    "    json.dump(products_data, f)"
   ]
  },
  {
   "cell_type": "code",
   "execution_count": null,
   "id": "674a75ff-5be8-4ace-b531-b92812018402",
   "metadata": {
    "editable": true,
    "slideshow": {
     "slide_type": ""
    },
    "tags": []
   },
   "outputs": [],
   "source": []
  }
 ],
 "metadata": {
  "kernelspec": {
   "display_name": "Python 3 (ipykernel)",
   "language": "python",
   "name": "python3"
  },
  "language_info": {
   "codemirror_mode": {
    "name": "ipython",
    "version": 3
   },
   "file_extension": ".py",
   "mimetype": "text/x-python",
   "name": "python",
   "nbconvert_exporter": "python",
   "pygments_lexer": "ipython3",
   "version": "3.10.12"
  }
 },
 "nbformat": 4,
 "nbformat_minor": 5
}
